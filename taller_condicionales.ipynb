{
 "cells": [
  {
   "cell_type": "code",
   "execution_count": null,
   "id": "2b9109f2",
   "metadata": {},
   "outputs": [],
   "source": [
    "codigo = int(input(\"Ingresa un número entero: \"))\n",
    "vocales_ascii = [97, 101, 105, 111, 117]  # a, e, i, o, u\n",
    "\n",
    "if codigo in vocales_ascii:\n",
    "    print(f\"El número {codigo} corresponde a la vocal '{chr(codigo)}'\")\n",
    "else:\n",
    "    print(f\"El número {codigo} no corresponde a una vocal minúscula.\")"
   ]
  },
  {
   "cell_type": "code",
   "execution_count": null,
   "id": "83051a6f",
   "metadata": {},
   "outputs": [],
   "source": [
    "caracter = input(\"Ingresa una letra: \")\n",
    "\n",
    "if len(caracter) == 1:\n",
    "    ascii_code = ord(caracter)\n",
    "    if ascii_code % 2 == 0:\n",
    "        print(f\"El código ASCII de '{caracter}' es {ascii_code} y es PAR.\")\n",
    "    else:\n",
    "        print(f\"El código ASCII de '{caracter}' es {ascii_code} y es IMPAR.\")\n",
    "else:\n",
    "    print(\"Debes ingresar solo un carácter.\")"
   ]
  },
  {
   "cell_type": "code",
   "execution_count": null,
   "id": "ebf6fed2",
   "metadata": {},
   "outputs": [],
   "source": [
    "caracter = input(\"Ingresa un carácter: \")\n",
    "\n",
    "if len(caracter) == 1:\n",
    "    if caracter.isdigit():\n",
    "        print(f\"'{caracter}' es un dígito.\")\n",
    "    else:\n",
    "        print(f\"'{caracter}' NO es un dígito.\")\n",
    "else:\n",
    "    print(\"Debes ingresar solo un carácter.\")"
   ]
  },
  {
   "cell_type": "code",
   "execution_count": null,
   "id": "9880a487",
   "metadata": {},
   "outputs": [],
   "source": [
    "a = float(input(\"Ingresa el primer número: \"))\n",
    "b = float(input(\"Ingresa el segundo número: \"))\n",
    "\n",
    "if b != 0:\n",
    "    if a % b == 0:\n",
    "        print(f\"{a} es múltiplo de {b}\")\n",
    "    else:\n",
    "        print(f\"{a} NO es múltiplo de {b}\")\n",
    "else:\n",
    "    print(\"No se puede dividir entre cero.\")"
   ]
  },
  {
   "cell_type": "code",
   "execution_count": null,
   "id": "f2551245",
   "metadata": {},
   "outputs": [],
   "source": [
    "x = float(input(\"Ingresa un número real: \"))\n",
    "\n",
    "if x > 0:\n",
    "    print(f\"El número {x} es positivo\")\n",
    "elif x < 0:\n",
    "    print(f\"El número {x} es negativo\")\n",
    "else:\n",
    "    print(\"El número x es el neutro para la suma\")"
   ]
  },
  {
   "cell_type": "code",
   "execution_count": null,
   "id": "f66bbb2b",
   "metadata": {},
   "outputs": [],
   "source": [
    "x0 = float(input(\"Centro x del círculo: \"))\n",
    "y0 = float(input(\"Centro y del círculo: \"))\n",
    "r = float(input(\"Radio del círculo: \"))\n",
    "\n",
    "x = float(input(\"Coordenada x del punto: \"))\n",
    "y = float(input(\"Coordenada y del punto: \"))\n",
    "\n",
    "distancia_cuadrada = (x - x0)**2 + (y - y0)**2\n",
    "\n",
    "if distancia_cuadrada < r**2:\n",
    "    print(\"El punto está dentro del círculo.\")\n",
    "elif distancia_cuadrada == r**2:\n",
    "    print(\"El punto está sobre el borde del círculo.\")\n",
    "else:\n",
    "    print(\"El punto está fuera del círculo.\")"
   ]
  },
  {
   "cell_type": "code",
   "execution_count": null,
   "id": "719dc847",
   "metadata": {},
   "outputs": [],
   "source": [
    "a = float(input(\"Lado a: \"))\n",
    "b = float(input(\"Lado b: \"))\n",
    "c = float(input(\"Lado c: \"))\n",
    "\n",
    "if a + b > c and a + c > b and b + c > a:\n",
    "    print(\"Sí se puede construir un triángulo con esas longitudes.\")\n",
    "else:\n",
    "    print(\"No se puede construir un triángulo con esas longitudes.\")"
   ]
  },
  {
   "cell_type": "code",
   "execution_count": null,
   "id": "6b726cee",
   "metadata": {},
   "outputs": [],
   "source": [
    "pais = input(\"Ingresa el nombre de un país de América (en minúsculas): \")\n",
    "\n",
    "match pais:\n",
    "    case \"colombia\":\n",
    "        print(\"Bogotá\")\n",
    "    case \"argentina\":\n",
    "        print(\"Buenos Aires\")\n",
    "    case \"brasil\":\n",
    "        print(\"Brasilia\")\n",
    "    case \"chile\":\n",
    "        print(\"Santiago\")\n",
    "    case \"mexico\":\n",
    "        print(\"Ciudad de México\")\n",
    "    case \"peru\":\n",
    "        print(\"Lima\")\n",
    "    case \"canada\":\n",
    "        print(\"Ottawa\")\n",
    "    case \"estados unidos\" | \"eeuu\" | \"usa\":\n",
    "        print(\"Washington D.C.\")\n",
    "    case _:\n",
    "        print(\"País no identificado.\")"
   ]
  }
 ],
 "metadata": {},
 "nbformat": 4,
 "nbformat_minor": 5
}
